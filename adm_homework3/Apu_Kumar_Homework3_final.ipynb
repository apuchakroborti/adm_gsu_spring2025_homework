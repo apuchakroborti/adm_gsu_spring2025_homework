{
 "cells": [
  {
   "cell_type": "code",
   "execution_count": 12,
   "id": "835191be-fc91-4ffe-8694-9ff41020b624",
   "metadata": {},
   "outputs": [],
   "source": [
    "from aeon.datasets import (\n",
    "    load_anomaly_detection,\n",
    "    load_classification,\n",
    "    load_forecasting,\n",
    "    load_regression,\n",
    ")"
   ]
  },
  {
   "cell_type": "code",
   "execution_count": 14,
   "id": "67c08b12-130b-4ca7-b47d-82d0ecfd0dfa",
   "metadata": {},
   "outputs": [
    {
     "name": "stdout",
     "output_type": "stream",
     "text": [
      "Univariate All datasets=  ['ACSF1', 'Adiac', 'AllGestureWiimoteX', 'AllGestureWiimoteY', 'AllGestureWiimoteZ', 'ArrowHead', 'Beef', 'BeetleFly', 'BirdChicken', 'BME', 'Car', 'CBF', 'Chinatown', 'ChlorineConcentration', 'CinCECGTorso', 'Coffee', 'Computers', 'CricketX', 'CricketY', 'CricketZ', 'Crop', 'DiatomSizeReduction', 'DistalPhalanxOutlineAgeGroup', 'DistalPhalanxOutlineCorrect', 'DistalPhalanxTW', 'DodgerLoopDay', 'DodgerLoopGame', 'DodgerLoopWeekend', 'Earthquakes', 'ECG200', 'ECG5000', 'ECGFiveDays', 'ElectricDevices', 'EOGHorizontalSignal', 'EOGVerticalSignal', 'EthanolLevel', 'FaceAll', 'FaceFour', 'FacesUCR', 'FiftyWords', 'Fish', 'FordA', 'FordB', 'FreezerRegularTrain', 'FreezerSmallTrain', 'Fungi', 'GestureMidAirD1', 'GestureMidAirD2', 'GestureMidAirD3', 'GesturePebbleZ1', 'GesturePebbleZ2', 'GunPoint', 'GunPointAgeSpan', 'GunPointMaleVersusFemale', 'GunPointOldVersusYoung', 'Ham', 'HandOutlines', 'Haptics', 'Herring', 'HouseTwenty', 'InlineSkate', 'InsectEPGRegularTrain', 'InsectEPGSmallTrain', 'InsectWingbeatSound', 'ItalyPowerDemand', 'LargeKitchenAppliances', 'Lightning2', 'Lightning7', 'Mallat', 'Meat', 'MedicalImages', 'MelbournePedestrian', 'MiddlePhalanxOutlineCorrect', 'MiddlePhalanxOutlineAgeGroup', 'MiddlePhalanxTW', 'MixedShapesRegularTrain', 'MixedShapesSmallTrain', 'MoteStrain', 'NonInvasiveFetalECGThorax1', 'NonInvasiveFetalECGThorax2', 'OliveOil', 'OSULeaf', 'PhalangesOutlinesCorrect', 'Phoneme', 'PickupGestureWiimoteZ', 'PigAirwayPressure', 'PigArtPressure', 'PigCVP', 'PLAID', 'Plane', 'PowerCons', 'ProximalPhalanxOutlineCorrect', 'ProximalPhalanxOutlineAgeGroup', 'ProximalPhalanxTW', 'RefrigerationDevices', 'Rock', 'ScreenType', 'SemgHandGenderCh2', 'SemgHandMovementCh2', 'SemgHandSubjectCh2', 'ShakeGestureWiimoteZ', 'ShapeletSim', 'ShapesAll', 'SmallKitchenAppliances', 'SmoothSubspace', 'SonyAIBORobotSurface1', 'SonyAIBORobotSurface2', 'StarLightCurves', 'Strawberry', 'SwedishLeaf', 'Symbols', 'SyntheticControl', 'ToeSegmentation1', 'ToeSegmentation2', 'Trace', 'TwoLeadECG', 'TwoPatterns', 'UMD', 'UWaveGestureLibraryAll', 'UWaveGestureLibraryX', 'UWaveGestureLibraryY', 'UWaveGestureLibraryZ', 'Wafer', 'Wine', 'WordSynonyms', 'Worms', 'WormsTwoClass', 'Yoga']\n",
      "Univariate length =  128\n"
     ]
    }
   ],
   "source": [
    "from aeon.datasets.tsc_datasets import univariate\n",
    "\n",
    "dataset_list = univariate\n",
    "print(\"Univariate All datasets= \", univariate)\n",
    "print(\"Univariate length = \", len(univariate))\n",
    "\n",
    "# selecting 10 minumum length datasets\n",
    "dataset_lengths = {}  # name -> length\n",
    "\n",
    "for dataset in dataset_list:\n",
    "    # print(f'\\nDataset name: {dataset}')\n",
    "\n",
    "    X_train, y_train = load_classification(dataset, split=\"train\", return_metadata=False)\n",
    "    X_test, y_test = load_classification(dataset, split=\"test\", return_metadata=False)\n",
    "    # print('----------------------------------------------------')\n",
    "    # print(f'X train length of {dataset}: {len(X_train)}')\n",
    "    # print(f'Y train length of {dataset}: {len(y_train)}')\n",
    "    # print(f'X test length of {dataset}: {len(X_test)}')\n",
    "    # print(f'Y test length of {dataset}: {len(y_test)}')\n",
    "    dataset_lengths[dataset] = len(X_train)\n"
   ]
  },
  {
   "cell_type": "code",
   "execution_count": 15,
   "id": "c159fa61-7719-4adb-807d-a28856b79cc4",
   "metadata": {},
   "outputs": [
    {
     "name": "stdout",
     "output_type": "stream",
     "text": [
      "['DiatomSizeReduction', 'DodgerLoopGame', 'InsectEPGSmallTrain', 'DodgerLoopWeekend', 'Fungi', 'BeetleFly', 'BirdChicken', 'Chinatown', 'MoteStrain', 'Rock', 'ShapeletSim', 'SonyAIBORobotSurface1', 'ECGFiveDays', 'TwoLeadECG', 'FaceFour', 'Symbols', 'SonyAIBORobotSurface2', 'Coffee', 'FreezerSmallTrain', 'Beef']\n"
     ]
    }
   ],
   "source": [
    "# sorting the datasets based on lengths\n",
    "sorted_items = sorted(dataset_lengths.items(), key=lambda x: x[1])\n",
    "\n",
    "minimum_20_dataset = []\n",
    "for dataset_asc_sorted_name in sorted_items[:20]:\n",
    "    minimum_20_dataset.append(dataset_asc_sorted_name[0])\n",
    "\n",
    "print(minimum_20_dataset)"
   ]
  },
  {
   "cell_type": "code",
   "execution_count": 16,
   "id": "60be18e8-f61c-4fc9-ada3-00ea271980f4",
   "metadata": {},
   "outputs": [
    {
     "name": "stdout",
     "output_type": "stream",
     "text": [
      "Mean Accuracy KNeighborsTimeSeriesClassifier using dataset: DodgerLoopWeekend, mean score: 1.0\n",
      "Mean Accuracy KNeighborsTimeSeriesClassifier using dataset: BeetleFly, mean score: 0.85\n",
      "Mean Accuracy KNeighborsTimeSeriesClassifier using dataset: BirdChicken, mean score: 0.8\n",
      "Mean Accuracy KNeighborsTimeSeriesClassifier using dataset: Chinatown, mean score: 0.95\n",
      "Mean Accuracy KNeighborsTimeSeriesClassifier using dataset: MoteStrain, mean score: 0.8\n",
      "Mean Accuracy KNeighborsTimeSeriesClassifier using dataset: ShapeletSim, mean score: 0.5\n",
      "Mean Accuracy KNeighborsTimeSeriesClassifier using dataset: SonyAIBORobotSurface1, mean score: 0.8\n",
      "Mean Accuracy KNeighborsTimeSeriesClassifier using dataset: ECGFiveDays, mean score: 0.5666666666666667\n",
      "Mean Accuracy KNeighborsTimeSeriesClassifier using dataset: TwoLeadECG, mean score: 0.9\n",
      "Mean Accuracy KNeighborsTimeSeriesClassifier using dataset: SonyAIBORobotSurface2, mean score: 0.85\n"
     ]
    }
   ],
   "source": [
    "#selecting 10 datasets that have smaller lengths\n",
    "final_10_datasets=['DodgerLoopWeekend', 'BeetleFly', 'BirdChicken', 'Chinatown', 'MoteStrain', 'ShapeletSim', \n",
    "                   'SonyAIBORobotSurface1', 'ECGFiveDays', 'TwoLeadECG', 'SonyAIBORobotSurface2'\n",
    "                  ]\n",
    "from aeon.classification.distance_based import KNeighborsTimeSeriesClassifier\n",
    "\n",
    "from aeon.datasets import load_classification\n",
    "from sklearn.model_selection import cross_val_score\n",
    "import warnings\n",
    "\n",
    "knn_mean_accuracy_results = {}\n",
    "# Optional: suppress warnings for cleaner output\n",
    "warnings.filterwarnings(\"ignore\")\n",
    "\n",
    "for dataset_name in final_10_datasets:\n",
    "    try:\n",
    "        Dataset_X_train, Dataset_y_train = load_classification(dataset_name, split=\"train\", return_metadata=False)\n",
    "        Dataset_X_test, Dataset_y_test = load_classification(dataset_name, split=\"test\", return_metadata=False)\n",
    "    \n",
    "        clf = KNeighborsTimeSeriesClassifier()\n",
    "        scores = cross_val_score(clf, Dataset_X_train, Dataset_y_train, cv=10)\n",
    "        print(f'Mean Accuracy KNeighborsTimeSeriesClassifier using dataset: {dataset_name}, mean score: {scores.mean()}')\n",
    "        knn_mean_accuracy_results[dataset_name]=scores.mean()\n",
    "    except Exception as e:\n",
    "        print(f'----------Exception for the dataset: {dataset_name}, error is: {e}--------')\n"
   ]
  },
  {
   "cell_type": "code",
   "execution_count": 17,
   "id": "07b3b013-a757-460f-a1a1-1c968ab08ebd",
   "metadata": {},
   "outputs": [
    {
     "name": "stdout",
     "output_type": "stream",
     "text": [
      "Mean Accuracy BOSSEnsemble using dataset: DodgerLoopWeekend, mean score: 1.0\n",
      "Mean Accuracy BOSSEnsemble using dataset: BeetleFly, mean score: 1.0\n",
      "Mean Accuracy BOSSEnsemble using dataset: BirdChicken, mean score: 1.0\n",
      "Mean Accuracy BOSSEnsemble using dataset: Chinatown, mean score: 0.8\n",
      "Mean Accuracy BOSSEnsemble using dataset: MoteStrain, mean score: 0.95\n",
      "Mean Accuracy BOSSEnsemble using dataset: ShapeletSim, mean score: 1.0\n",
      "Mean Accuracy BOSSEnsemble using dataset: SonyAIBORobotSurface1, mean score: 0.7\n",
      "Mean Accuracy BOSSEnsemble using dataset: ECGFiveDays, mean score: 1.0\n",
      "Mean Accuracy BOSSEnsemble using dataset: TwoLeadECG, mean score: 1.0\n",
      "Mean Accuracy BOSSEnsemble using dataset: SonyAIBORobotSurface2, mean score: 0.8666666666666666\n"
     ]
    }
   ],
   "source": [
    "from aeon.classification.dictionary_based import BOSSEnsemble\n",
    "\n",
    "from aeon.datasets import load_classification\n",
    "from sklearn.model_selection import cross_val_score\n",
    "import warnings\n",
    "\n",
    "boss_mean_accuracy_results = {}\n",
    "# Optional: suppress warnings for cleaner output\n",
    "warnings.filterwarnings(\"ignore\")\n",
    "\n",
    "for dataset_name in final_10_datasets:\n",
    "    try:\n",
    "        X_train, y_train = load_classification(dataset_name, split=\"train\", return_metadata=False)\n",
    "        X_test, y_test = load_classification(dataset_name, split=\"test\", return_metadata=False)\n",
    "    \n",
    "\n",
    "        clf = BOSSEnsemble()\n",
    "        scores = cross_val_score(clf, X_train, y_train, cv=10)\n",
    "        print(f'Mean Accuracy BOSSEnsemble using dataset: {dataset_name}, mean score: {scores.mean()}')\n",
    "        boss_mean_accuracy_results[dataset_name]=scores.mean()\n",
    "    except Exception as e:\n",
    "        print(f'-----Exception for the dataset: {dataset_name}, error is: {e}-----')"
   ]
  },
  {
   "cell_type": "code",
   "execution_count": 18,
   "id": "000ea258-60f8-4b35-b921-03c3d08ea0f8",
   "metadata": {},
   "outputs": [
    {
     "name": "stdout",
     "output_type": "stream",
     "text": [
      "Mean Accuracy RocketClassifier using dataset: DodgerLoopWeekend, mean score: 1.0\n",
      "Mean Accuracy RocketClassifier using dataset: BeetleFly, mean score: 0.75\n",
      "Mean Accuracy RocketClassifier using dataset: BirdChicken, mean score: 0.85\n",
      "Mean Accuracy RocketClassifier using dataset: Chinatown, mean score: 0.95\n",
      "Mean Accuracy RocketClassifier using dataset: MoteStrain, mean score: 0.85\n",
      "Mean Accuracy RocketClassifier using dataset: ShapeletSim, mean score: 1.0\n",
      "Mean Accuracy RocketClassifier using dataset: SonyAIBORobotSurface1, mean score: 0.9\n",
      "Mean Accuracy RocketClassifier using dataset: ECGFiveDays, mean score: 1.0\n",
      "Mean Accuracy RocketClassifier using dataset: TwoLeadECG, mean score: 1.0\n",
      "Mean Accuracy RocketClassifier using dataset: SonyAIBORobotSurface2, mean score: 0.8833333333333332\n"
     ]
    }
   ],
   "source": [
    "from aeon.classification.convolution_based import RocketClassifier\n",
    "\n",
    "from aeon.datasets import load_classification\n",
    "from sklearn.model_selection import cross_val_score\n",
    "import warnings\n",
    "\n",
    "rocket_mean_accuracy_results = {}\n",
    "# Optional: suppress warnings for cleaner output\n",
    "warnings.filterwarnings(\"ignore\")\n",
    "\n",
    "# for dataset_name in small_10_dataset_lists:\n",
    "for dataset_name in final_10_datasets:\n",
    "    try:\n",
    "        X_train, y_train = load_classification(dataset_name, split=\"train\", return_metadata=False)\n",
    "        X_test, y_test = load_classification(dataset_name, split=\"test\", return_metadata=False)\n",
    "    \n",
    "\n",
    "        clf = RocketClassifier()\n",
    "        scores = cross_val_score(clf, X_train, y_train, cv=10)\n",
    "        print(f'Mean Accuracy RocketClassifier using dataset: {dataset_name}, mean score: {scores.mean()}')\n",
    "        rocket_mean_accuracy_results[dataset_name]=scores.mean()\n",
    "    except Exception as e:\n",
    "        print(f'-----Exception for the dataset: {dataset_name}, error is: {e}-----')"
   ]
  },
  {
   "cell_type": "code",
   "execution_count": 19,
   "id": "652cbc06-4090-4c25-8087-2c50c502a5be",
   "metadata": {},
   "outputs": [
    {
     "name": "stdout",
     "output_type": "stream",
     "text": [
      "Mean Accuracy TSFreshClassifier using dataset: DodgerLoopWeekend, mean score: 0.8\n",
      "Mean Accuracy TSFreshClassifier using dataset: BeetleFly, mean score: 0.5\n",
      "Mean Accuracy TSFreshClassifier using dataset: BirdChicken, mean score: 0.5\n",
      "Mean Accuracy TSFreshClassifier using dataset: Chinatown, mean score: 0.8\n",
      "Mean Accuracy TSFreshClassifier using dataset: MoteStrain, mean score: 0.5\n",
      "Mean Accuracy TSFreshClassifier using dataset: ShapeletSim, mean score: 0.5\n",
      "Mean Accuracy TSFreshClassifier using dataset: SonyAIBORobotSurface1, mean score: 0.75\n",
      "Mean Accuracy TSFreshClassifier using dataset: ECGFiveDays, mean score: 1.0\n",
      "Mean Accuracy TSFreshClassifier using dataset: TwoLeadECG, mean score: 0.5166666666666666\n",
      "Mean Accuracy TSFreshClassifier using dataset: SonyAIBORobotSurface2, mean score: 0.6166666666666666\n"
     ]
    }
   ],
   "source": [
    "from aeon.classification.feature_based import TSFreshClassifier\n",
    "\n",
    "from aeon.datasets import load_classification\n",
    "from sklearn.model_selection import cross_val_score\n",
    "import warnings\n",
    "\n",
    "tsf_mean_accuracy_results = {}\n",
    "# Optional: suppress warnings for cleaner output\n",
    "warnings.filterwarnings(\"ignore\")\n",
    "\n",
    "# for dataset_name in small_10_dataset_lists:\n",
    "for dataset_name in final_10_datasets:\n",
    "    try:\n",
    "        X_train, y_train = load_classification(dataset_name, split=\"train\", return_metadata=False)\n",
    "        X_test, y_test = load_classification(dataset_name, split=\"test\", return_metadata=False)\n",
    "\n",
    "        clf = TSFreshClassifier()\n",
    "        scores = cross_val_score(clf, X_train, y_train, cv=10)\n",
    "        print(f'Mean Accuracy TSFreshClassifier using dataset: {dataset_name}, mean score: {scores.mean()}')\n",
    "        tsf_mean_accuracy_results[dataset_name]=scores.mean()\n",
    "    except Exception as e:\n",
    "        print(f'-----Exception for the dataset: {dataset_name}, error is: {e}-----')"
   ]
  },
  {
   "cell_type": "code",
   "execution_count": 22,
   "id": "6860a068-3492-4a15-99dc-2663d84dc080",
   "metadata": {},
   "outputs": [
    {
     "data": {
      "image/png": "[encoded data removed]",
      "text/plain": [
       "<Figure size 600x230 with 1 Axes>"
      ]
     },
     "metadata": {},
     "output_type": "display_data"
    }
   ],
   "source": [
    "import numpy as np\n",
    "classifiers = [\"KNeighborsTimeSeriesClassifier\", \"BOSSEnsemble\", \"RocketClassifier\", \"TSFreshClassifier\"]\n",
    "\n",
    "classifier_accuracies=[]\n",
    "\n",
    "for index in range(0, 10):\n",
    "    dataset_row = []\n",
    "    dataset_row.append(knn_mean_accuracy_results[final_10_datasets[index]])\n",
    "    dataset_row.append(boss_mean_accuracy_results[final_10_datasets[index]])\n",
    "    dataset_row.append(rocket_mean_accuracy_results[final_10_datasets[index]])\n",
    "    dataset_row.append(tsf_mean_accuracy_results[final_10_datasets[index]])\n",
    "    classifier_accuracies.append(dataset_row)\n",
    "\n",
    "from aeon.visualisation import plot_critical_difference\n",
    "_ = plot_critical_difference(classifier_accuracies, classifiers)"
   ]
  },
  {
   "cell_type": "code",
   "execution_count": 27,
   "id": "931985b8-f489-42ca-ba26-850e15e14990",
   "metadata": {},
   "outputs": [
    {
     "name": "stdout",
     "output_type": "stream",
     "text": [
      "\n",
      "    Based on the above Critical Difference (CD) diagram, the performance of the TSFresh classifier is significantly worse than that of the other three classifiers: KNeighborsTimeSeries, BOSS (Bag-of-SFA-Symbols) Ensemble, and ROCKET. These classifiers represent different methodological categories:\n",
      "\n",
      "1. KNeighborsTimeSeries is a distance-based classifier that typically relies on dynamic time warping or Euclidean distance.\n",
      "\n",
      "2. BOSS is a dictionary-based approach that transforms time series into symbolic representations.\n",
      "\n",
      "3. ROCKET (RandOm Convolutional KErnel Transform) is a convolution-based method that applies random convolutional kernels to extract features.\n",
      "\n",
      "4. TSFresh is a feature-based classifier that computes a large set of time-series characteristics before applying a standard classifier.\n",
      "\n",
      "All four classifiers were trained using 10-fold cross-validation on the following univariate time series datasets from the UCR/UEA archive: DodgerLoopWeekend, BeetleFly, BirdChicken, Chinatown, MoteStrain, ShapeletSim, SonyAIBORobotSurface1, ECGFiveDays, TwoLeadECG, and SonyAIBORobotSurface2.\n",
      "\n",
      "Although ROCKET achieved the best overall performance, the difference between ROCKET and BOSS was not statistically significant, indicating that both methods perform comparably well on these datasets.\n",
      "  \n"
     ]
    }
   ],
   "source": [
    "print(\"\"\"\n",
    "    Based on the above Critical Difference (CD) diagram, the performance of the TSFresh classifier is significantly worse than that of the other three classifiers: KNeighborsTimeSeries, BOSS (Bag-of-SFA-Symbols) Ensemble, and ROCKET. These classifiers represent different methodological categories:\n",
    "\n",
    "1. KNeighborsTimeSeries is a distance-based classifier that typically relies on dynamic time warping or Euclidean distance.\n",
    "\n",
    "2. BOSS is a dictionary-based approach that transforms time series into symbolic representations.\n",
    "\n",
    "3. ROCKET (RandOm Convolutional KErnel Transform) is a convolution-based method that applies random convolutional kernels to extract features.\n",
    "\n",
    "4. TSFresh is a feature-based classifier that computes a large set of time-series characteristics before applying a standard classifier.\n",
    "\n",
    "All four classifiers were trained using 10-fold cross-validation on the following univariate time series datasets from the UCR/UEA archive: DodgerLoopWeekend, BeetleFly, BirdChicken, Chinatown, MoteStrain, ShapeletSim, SonyAIBORobotSurface1, ECGFiveDays, TwoLeadECG, and SonyAIBORobotSurface2.\n",
    "\n",
    "Although ROCKET achieved the best overall performance, the difference between ROCKET and BOSS was not statistically significant, indicating that both methods perform comparably well on these datasets.\n",
    "  \"\"\")"
   ]
  },
  {
   "cell_type": "code",
   "execution_count": null,
   "id": "bcdcc837-c607-4f50-b850-f7a4f6f1343c",
   "metadata": {},
   "outputs": [],
   "source": []
  }
 ],
 "metadata": {
  "kernelspec": {
   "display_name": "Python 3 (ipykernel)",
   "language": "python",
   "name": "python3"
  },
  "language_info": {
   "codemirror_mode": {
    "name": "ipython",
    "version": 3
   },
   "file_extension": ".py",
   "mimetype": "text/x-python",
   "name": "python",
   "nbconvert_exporter": "python",
   "pygments_lexer": "ipython3",
   "version": "3.12.7"
  }
 },
 "nbformat": 4,
 "nbformat_minor": 5
}
