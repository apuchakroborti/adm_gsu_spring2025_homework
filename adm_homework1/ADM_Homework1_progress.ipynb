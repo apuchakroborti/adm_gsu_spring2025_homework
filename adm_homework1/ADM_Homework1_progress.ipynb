{
 "cells": [
  {
   "cell_type": "code",
   "execution_count": 5,
   "id": "5f810d05-f1bf-4f97-b042-0720ad5919db",
   "metadata": {},
   "outputs": [],
   "source": [
    "from imblearn.datasets import fetch_datasets\n"
   ]
  },
  {
   "cell_type": "code",
   "execution_count": 6,
   "id": "73e1500f-5d48-411b-9ae7-a232acaf7984",
   "metadata": {},
   "outputs": [],
   "source": [
    "abds = fetch_datasets()[\"abalone\"]"
   ]
  },
  {
   "cell_type": "code",
   "execution_count": 7,
   "id": "52bea076-f6e1-43ab-9c41-27b6906f8a1d",
   "metadata": {},
   "outputs": [],
   "source": [
    "X, y = abds.data, abds.target"
   ]
  },
  {
   "cell_type": "code",
   "execution_count": 8,
   "id": "7015ab01-b5e2-489e-a9e6-702e4074ab1d",
   "metadata": {},
   "outputs": [
    {
     "name": "stdout",
     "output_type": "stream",
     "text": [
      "[[0.     0.     1.     ... 0.2245 0.101  0.15  ]\n",
      " [0.     0.     1.     ... 0.0995 0.0485 0.07  ]\n",
      " [1.     0.     0.     ... 0.2565 0.1415 0.21  ]\n",
      " ...\n",
      " [0.     0.     1.     ... 0.5255 0.2875 0.308 ]\n",
      " [1.     0.     0.     ... 0.531  0.261  0.296 ]\n",
      " [0.     0.     1.     ... 0.9455 0.3765 0.495 ]]\n"
     ]
    }
   ],
   "source": [
    "print(X)"
   ]
  },
  {
   "cell_type": "code",
   "execution_count": 9,
   "id": "5b26796e-845d-4200-9701-afe92d58dc8a",
   "metadata": {},
   "outputs": [],
   "source": [
    "from sklearn.model_selection import train_test_split"
   ]
  },
  {
   "cell_type": "code",
   "execution_count": 10,
   "id": "30f5d07d-c765-45b6-b21e-d3b75bf74767",
   "metadata": {},
   "outputs": [],
   "source": [
    "last3digits_student_id = 426 # update this"
   ]
  },
  {
   "cell_type": "code",
   "execution_count": 11,
   "id": "3552402b-3fa8-4458-9e30-a2a63471b405",
   "metadata": {},
   "outputs": [],
   "source": [
    "p_seed = last3digits_student_id % 79"
   ]
  },
  {
   "cell_type": "code",
   "execution_count": 12,
   "id": "f1f0119a-af0c-4157-8846-b1135d3f3f46",
   "metadata": {},
   "outputs": [],
   "source": [
    "X_train, X_test, y_train, y_test = train_test_split(X, y, stratify=y, random_state=p_seed)"
   ]
  },
  {
   "cell_type": "code",
   "execution_count": 13,
   "id": "a1173460-08e2-4634-b2a0-13a010b1ee5d",
   "metadata": {},
   "outputs": [
    {
     "data": {
      "text/plain": [
       "3132"
      ]
     },
     "execution_count": 13,
     "metadata": {},
     "output_type": "execute_result"
    }
   ],
   "source": [
    "len(X_train)"
   ]
  },
  {
   "cell_type": "code",
   "execution_count": 14,
   "id": "d4718d30-8b12-4309-a7af-97d166aa5d63",
   "metadata": {},
   "outputs": [
    {
     "data": {
      "text/plain": [
       "1045"
      ]
     },
     "execution_count": 14,
     "metadata": {},
     "output_type": "execute_result"
    }
   ],
   "source": [
    "len(X_test)"
   ]
  },
  {
   "cell_type": "code",
   "execution_count": 15,
   "id": "1a07a9f7-310f-42af-a5ab-02074e07ead8",
   "metadata": {},
   "outputs": [
    {
     "data": {
      "text/plain": [
       "3132"
      ]
     },
     "execution_count": 15,
     "metadata": {},
     "output_type": "execute_result"
    }
   ],
   "source": [
    "len(y_train)"
   ]
  },
  {
   "cell_type": "code",
   "execution_count": 16,
   "id": "f5a34f63-9219-4efc-8509-ffea0111b04f",
   "metadata": {},
   "outputs": [
    {
     "data": {
      "text/plain": [
       "1045"
      ]
     },
     "execution_count": 16,
     "metadata": {},
     "output_type": "execute_result"
    }
   ],
   "source": [
    "len(y_test)"
   ]
  },
  {
   "cell_type": "code",
   "execution_count": 17,
   "id": "28bcb39a-cf64-4011-9314-cdb559979e95",
   "metadata": {},
   "outputs": [
    {
     "name": "stdout",
     "output_type": "stream",
     "text": [
      "[-1 -1 -1 ... -1 -1 -1]\n"
     ]
    }
   ],
   "source": [
    "print(y_test)"
   ]
  },
  {
   "cell_type": "code",
   "execution_count": 18,
   "id": "87312a1c-6ac4-4047-9f3e-03762ac71e08",
   "metadata": {},
   "outputs": [],
   "source": [
    "from sklearn.ensemble import RandomForestClassifier\n",
    "from sklearn.linear_model import LogisticRegression\n",
    "\n",
    "# Train a baseline model\n",
    "clf = RandomForestClassifier(random_state=p_seed, class_weight=None)  # No class balancing yet\n",
    "clf.fit(X_train, y_train)\n",
    "\n",
    "# Make predictions\n",
    "y_pred = clf.predict(X_test)\n"
   ]
  },
  {
   "cell_type": "code",
   "execution_count": 19,
   "id": "ce566a3c-cd1b-44a7-9633-d224ff509e2f",
   "metadata": {},
   "outputs": [
    {
     "name": "stdout",
     "output_type": "stream",
     "text": [
      "Balanced Accuracy: 0.5252\n",
      "Geometric Mean Score: 0.2644\n",
      "Macro F1-Score: 0.5278\n",
      "Weighted F1-Score: 0.8655\n"
     ]
    }
   ],
   "source": [
    "from sklearn.metrics import balanced_accuracy_score, f1_score\n",
    "from imblearn.metrics import geometric_mean_score\n",
    "\n",
    "# Compute metrics\n",
    "bal_acc = balanced_accuracy_score(y_test, y_pred)\n",
    "geo_mean = geometric_mean_score(y_test, y_pred)\n",
    "macro_f1 = f1_score(y_test, y_pred, average='macro')\n",
    "weighted_f1 = f1_score(y_test, y_pred, average='weighted')\n",
    "\n",
    "# Print results\n",
    "print(f\"Balanced Accuracy: {bal_acc:.4f}\")\n",
    "print(f\"Geometric Mean Score: {geo_mean:.4f}\")\n",
    "print(f\"Macro F1-Score: {macro_f1:.4f}\")\n",
    "print(f\"Weighted F1-Score: {weighted_f1:.4f}\")\n"
   ]
  },
  {
   "cell_type": "code",
   "execution_count": 20,
   "id": "ba1cbc23-da5a-4634-bb1a-190e8fa0258a",
   "metadata": {},
   "outputs": [],
   "source": [
    "clf_balanced = RandomForestClassifier(random_state=p_seed, class_weight='balanced')\n",
    "clf_balanced.fit(X_train, y_train)\n",
    "y_pred_bal = clf_balanced.predict(X_test)\n"
   ]
  },
  {
   "cell_type": "code",
   "execution_count": 21,
   "id": "644c1acd-8821-4b11-b22b-ccc5ad48a948",
   "metadata": {},
   "outputs": [
    {
     "name": "stdout",
     "output_type": "stream",
     "text": [
      "Dummy Classifier - Balanced Accuracy: 0.5000, Geometric Mean: 0.0000, Macro F1: 0.4754, Weighted F1: 0.8616\n"
     ]
    }
   ],
   "source": [
    "from sklearn.dummy import DummyClassifier\n",
    "\n",
    "# Create and train the dummy classifier\n",
    "dummy_clf = DummyClassifier(strategy=\"most_frequent\")\n",
    "dummy_clf.fit(X_train, y_train)\n",
    "y_pred_dummy = dummy_clf.predict(X_test)\n",
    "\n",
    "# Evaluate the dummy classifier\n",
    "bal_acc_dummy = balanced_accuracy_score(y_test, y_pred_dummy)\n",
    "geo_mean_dummy = geometric_mean_score(y_test, y_pred_dummy)\n",
    "macro_f1_dummy = f1_score(y_test, y_pred_dummy, average='macro')\n",
    "weighted_f1_dummy = f1_score(y_test, y_pred_dummy, average='weighted')\n",
    "\n",
    "print(f\"Dummy Classifier - Balanced Accuracy: {bal_acc_dummy:.4f}, Geometric Mean: {geo_mean_dummy:.4f}, Macro F1: {macro_f1_dummy:.4f}, Weighted F1: {weighted_f1_dummy:.4f}\")\n"
   ]
  },
  {
   "cell_type": "code",
   "execution_count": 22,
   "id": "68316232-364b-4870-8c91-9d9b3a303742",
   "metadata": {},
   "outputs": [
    {
     "name": "stdout",
     "output_type": "stream",
     "text": [
      "Decision Tree - Balanced Accuracy: 0.4995, Geometric Mean: 0.0000, Macro F1: 0.4751, Weighted F1: 0.8612\n"
     ]
    }
   ],
   "source": [
    "from sklearn.tree import DecisionTreeClassifier\n",
    "\n",
    "# Train decision tree classifier\n",
    "dt_clf = DecisionTreeClassifier(max_depth=4, random_state=p_seed)\n",
    "dt_clf.fit(X_train, y_train)\n",
    "y_pred_dt = dt_clf.predict(X_test)\n",
    "\n",
    "# Evaluate the decision tree\n",
    "bal_acc_dt = balanced_accuracy_score(y_test, y_pred_dt)\n",
    "geo_mean_dt = geometric_mean_score(y_test, y_pred_dt)\n",
    "macro_f1_dt = f1_score(y_test, y_pred_dt, average='macro')\n",
    "weighted_f1_dt = f1_score(y_test, y_pred_dt, average='weighted')\n",
    "\n",
    "print(f\"Decision Tree - Balanced Accuracy: {bal_acc_dt:.4f}, Geometric Mean: {geo_mean_dt:.4f}, Macro F1: {macro_f1_dt:.4f}, Weighted F1: {weighted_f1_dt:.4f}\")\n"
   ]
  },
  {
   "cell_type": "code",
   "execution_count": 23,
   "id": "04a1f718-ce83-400d-a297-fd65de08b917",
   "metadata": {},
   "outputs": [
    {
     "name": "stdout",
     "output_type": "stream",
     "text": [
      "Undersampled Decision Tree - Balanced Accuracy: 0.8001, Geometric Mean: 0.7897, Macro F1: 0.5820, Weighted F1: 0.7591\n"
     ]
    }
   ],
   "source": [
    "from imblearn.under_sampling import RandomUnderSampler\n",
    "\n",
    "# Apply undersampling\n",
    "rus = RandomUnderSampler(random_state=p_seed)\n",
    "X_train_us, y_train_us = rus.fit_resample(X_train, y_train)\n",
    "\n",
    "# Train decision tree on undersampled data\n",
    "dt_rus = DecisionTreeClassifier(max_depth=4, random_state=p_seed)\n",
    "dt_rus.fit(X_train_us, y_train_us)\n",
    "y_pred_rus = dt_rus.predict(X_test)\n",
    "\n",
    "# Evaluate undersampled decision tree\n",
    "bal_acc_rus = balanced_accuracy_score(y_test, y_pred_rus)\n",
    "geo_mean_rus = geometric_mean_score(y_test, y_pred_rus)\n",
    "macro_f1_rus = f1_score(y_test, y_pred_rus, average='macro')\n",
    "weighted_f1_rus = f1_score(y_test, y_pred_rus, average='weighted')\n",
    "\n",
    "print(f\"Undersampled Decision Tree - Balanced Accuracy: {bal_acc_rus:.4f}, Geometric Mean: {geo_mean_rus:.4f}, Macro F1: {macro_f1_rus:.4f}, Weighted F1: {weighted_f1_rus:.4f}\")\n"
   ]
  },
  {
   "cell_type": "code",
   "execution_count": 24,
   "id": "edb01d12-cba9-4afc-9a48-003b6c190fd9",
   "metadata": {},
   "outputs": [
    {
     "name": "stdout",
     "output_type": "stream",
     "text": [
      "Class Weighted Decision Tree - Balanced Accuracy: 0.8073, Geometric Mean: 0.8063, Macro F1: 0.6374, Weighted F1: 0.8190\n"
     ]
    }
   ],
   "source": [
    "# Train decision tree with class weighting\n",
    "dt_weighted = DecisionTreeClassifier(max_depth=4, class_weight='balanced', random_state=p_seed)\n",
    "dt_weighted.fit(X_train, y_train)\n",
    "y_pred_weighted = dt_weighted.predict(X_test)\n",
    "\n",
    "# Evaluate the class-weighted decision tree\n",
    "bal_acc_weighted = balanced_accuracy_score(y_test, y_pred_weighted)\n",
    "geo_mean_weighted = geometric_mean_score(y_test, y_pred_weighted)\n",
    "macro_f1_weighted = f1_score(y_test, y_pred_weighted, average='macro')\n",
    "weighted_f1_weighted = f1_score(y_test, y_pred_weighted, average='weighted')\n",
    "\n",
    "print(f\"Class Weighted Decision Tree - Balanced Accuracy: {bal_acc_weighted:.4f}, Geometric Mean: {geo_mean_weighted:.4f}, Macro F1: {macro_f1_weighted:.4f}, Weighted F1: {weighted_f1_weighted:.4f}\")\n"
   ]
  },
  {
   "cell_type": "code",
   "execution_count": 25,
   "id": "62a56774-8678-4002-82b7-9193c74f4257",
   "metadata": {},
   "outputs": [
    {
     "name": "stdout",
     "output_type": "stream",
     "text": [
      "SMOTE Decision Tree - Balanced Accuracy: 0.8087, Geometric Mean: 0.8073, Macro F1: 0.6337, Weighted F1: 0.8148\n"
     ]
    }
   ],
   "source": [
    "from imblearn.over_sampling import SMOTE\n",
    "\n",
    "# Apply SMOTE\n",
    "smote = SMOTE(random_state=p_seed)\n",
    "X_train_sm, y_train_sm = smote.fit_resample(X_train, y_train)\n",
    "\n",
    "# Train decision tree on oversampled data\n",
    "dt_smote = DecisionTreeClassifier(max_depth=4, random_state=p_seed)\n",
    "dt_smote.fit(X_train_sm, y_train_sm)\n",
    "y_pred_smote = dt_smote.predict(X_test)\n",
    "\n",
    "# Evaluate SMOTE-trained decision tree\n",
    "bal_acc_smote = balanced_accuracy_score(y_test, y_pred_smote)\n",
    "geo_mean_smote = geometric_mean_score(y_test, y_pred_smote)\n",
    "macro_f1_smote = f1_score(y_test, y_pred_smote, average='macro')\n",
    "weighted_f1_smote = f1_score(y_test, y_pred_smote, average='weighted')\n",
    "\n",
    "print(f\"SMOTE Decision Tree - Balanced Accuracy: {bal_acc_smote:.4f}, Geometric Mean: {geo_mean_smote:.4f}, Macro F1: {macro_f1_smote:.4f}, Weighted F1: {weighted_f1_smote:.4f}\")\n"
   ]
  },
  {
   "cell_type": "code",
   "execution_count": 32,
   "id": "9a4d2163-c14f-4b0b-8bde-8813e1e78347",
   "metadata": {},
   "outputs": [
    {
     "name": "stdout",
     "output_type": "stream",
     "text": [
      "\n",
      "\n",
      "Balance Accuracy\n",
      "Bagging - Balanced Accuracy: 0.5389\n",
      "EasyEnsemble - Balanced Accuracy: 0.8110\n",
      "RUSBoost - Balanced Accuracy: 0.5000\n",
      "BalancedBagging - Balanced Accuracy: 0.7352\n",
      "BalancedRandomForest - Balanced Accuracy: 0.8015\n",
      "\n",
      "\n",
      "Geometric mean\n",
      "Bagging - Geometric mean score: 0.3155\n",
      "EasyEnsemble - Geometric mean score: 0.8009\n",
      "RUSBoost - Geometric mean score: 0.0000\n",
      "BalancedBagging - Geometric mean score: 0.7306\n",
      "BalancedRandomForest - Geometric mean score: 0.8014\n",
      "\n",
      "\n",
      "F1 score\n",
      "Bagging -  Macro F1: 0.5480\n",
      "EasyEnsemble -  Macro F1: 0.5921\n",
      "RUSBoost -  Macro F1: 0.4754\n",
      "BalancedBagging -  Macro F1: 0.6321\n",
      "BalancedRandomForest -  Macro F1: 0.6656\n",
      "\n",
      "\n",
      "Weighted F1\n",
      "Bagging -  Weighted F1: 0.8692\n",
      "EasyEnsemble - Weighted F1: 0.7681\n",
      "RUSBoost - Weighted F1: 0.8616\n",
      "BalancedBagging - Weighted F1: 0.8352\n",
      "BalancedRandomForest - Weighted F1: 0.8468\n"
     ]
    }
   ],
   "source": [
    "from sklearn.ensemble import BaggingClassifier\n",
    "from imblearn.ensemble import EasyEnsembleClassifier, RUSBoostClassifier, BalancedBaggingClassifier, BalancedRandomForestClassifier\n",
    "\n",
    "# Train ensemble classifiers\n",
    "bagging_clf = BaggingClassifier(random_state=p_seed)\n",
    "bagging_clf.fit(X_train, y_train)\n",
    "y_pred_bagging = bagging_clf.predict(X_test)\n",
    "\n",
    "easy_ensemble_clf = EasyEnsembleClassifier(random_state=p_seed)\n",
    "easy_ensemble_clf.fit(X_train, y_train)\n",
    "y_pred_easy = easy_ensemble_clf.predict(X_test)\n",
    "\n",
    "rusboost_clf = RUSBoostClassifier(random_state=p_seed)\n",
    "rusboost_clf.fit(X_train, y_train)\n",
    "y_pred_rusboost = rusboost_clf.predict(X_test)\n",
    "\n",
    "balanced_bagging_clf = BalancedBaggingClassifier(random_state=p_seed)\n",
    "balanced_bagging_clf.fit(X_train, y_train)\n",
    "y_pred_bal_bagging = balanced_bagging_clf.predict(X_test)\n",
    "\n",
    "balanced_rf_clf = BalancedRandomForestClassifier(random_state=p_seed)\n",
    "balanced_rf_clf.fit(X_train, y_train)\n",
    "y_pred_bal_rf = balanced_rf_clf.predict(X_test)\n",
    "\n",
    "# Evaluate and store results (Repeat for each model)\n",
    "models = {\n",
    "    \"Bagging\": y_pred_bagging,\n",
    "    \"EasyEnsemble\": y_pred_easy,\n",
    "    \"RUSBoost\": y_pred_rusboost,\n",
    "    \"BalancedBagging\": y_pred_bal_bagging,\n",
    "    \"BalancedRandomForest\": y_pred_bal_rf\n",
    "}\n",
    "# balance accuracy\n",
    "bal_acc_bagging = balanced_accuracy_score(y_test, y_pred_bagging)\n",
    "bal_acc_easy = balanced_accuracy_score(y_test, y_pred_easy)\n",
    "bal_acc_rusboost = balanced_accuracy_score(y_test, y_pred_rusboost)\n",
    "bal_acc_bal_bagging = balanced_accuracy_score(y_test, y_pred_bal_bagging)\n",
    "bal_acc_bal_rf = balanced_accuracy_score(y_test, y_pred_bal_rf)\n",
    "\n",
    "# Geometric mean\n",
    "geo_mean_bagging = geometric_mean_score(y_test, y_pred_bagging)\n",
    "geo_mean_easy = geometric_mean_score(y_test, y_pred_easy)\n",
    "geo_mean_rusboost = geometric_mean_score(y_test, y_pred_rusboost)\n",
    "geo_mean_bal_bagging = geometric_mean_score(y_test, y_pred_bal_bagging)\n",
    "geo_mean_bal_rf = geometric_mean_score(y_test, y_pred_bal_rf)\n",
    "\n",
    "# F1 score\n",
    "macro_f1_bagging = f1_score(y_test, y_pred_bagging, average='macro')\n",
    "macro_f1_easy = f1_score(y_test, y_pred_easy, average='macro')\n",
    "macro_f1_rusboost = f1_score(y_test, y_pred_rusboost, average='macro')\n",
    "macro_f1_bal_bagging = f1_score(y_test, y_pred_bal_bagging, average='macro')\n",
    "macro_f1_bal_rf = f1_score(y_test, y_pred_bal_rf, average='macro')\n",
    "\n",
    "# Weighted F1\n",
    "weighted_f1_bagging = f1_score(y_test, y_pred_bagging, average='weighted')\n",
    "weighted_f1_easy = f1_score(y_test, y_pred_easy, average='weighted')\n",
    "weighted_f1_rusboost = f1_score(y_test, y_pred_rusboost, average='weighted')\n",
    "weighted_f1_bal_bagging = f1_score(y_test, y_pred_bal_bagging, average='weighted')\n",
    "weighted_f1_bal_rf = f1_score(y_test, y_pred_bal_rf, average='weighted')\n",
    "\n",
    "\n",
    "\n",
    "#for name, y_pred in models.items():\n",
    "#    print(f\"{name} - Balanced Accuracy: {balanced_accuracy_score(y_test, y_pred):.4f}\")\n",
    "#Balance Accuracy\n",
    "print('\\n\\nBalance Accuracy')\n",
    "print(f\"Bagging - Balanced Accuracy: {bal_acc_bagging:.4f}\")\n",
    "print(f\"EasyEnsemble - Balanced Accuracy: {bal_acc_easy:.4f}\")\n",
    "print(f\"RUSBoost - Balanced Accuracy: {bal_acc_rusboost:.4f}\")\n",
    "print(f\"BalancedBagging - Balanced Accuracy: {bal_acc_bal_bagging:.4f}\")\n",
    "print(f\"BalancedRandomForest - Balanced Accuracy: {bal_acc_bal_rf:.4f}\")\n",
    "\n",
    "#Geometric mean\n",
    "print('\\n\\nGeometric mean')\n",
    "print(f\"Bagging - Geometric mean score: {geo_mean_bagging:.4f}\")\n",
    "print(f\"EasyEnsemble - Geometric mean score: {geo_mean_easy:.4f}\")\n",
    "print(f\"RUSBoost - Geometric mean score: {geo_mean_rusboost:.4f}\")\n",
    "print(f\"BalancedBagging - Geometric mean score: {geo_mean_bal_bagging:.4f}\")\n",
    "print(f\"BalancedRandomForest - Geometric mean score: {geo_mean_bal_rf:.4f}\")\n",
    "\n",
    "\n",
    "# F1 score\n",
    "print('\\n\\nF1 score')\n",
    "print(f\"Bagging -  Macro F1: {macro_f1_bagging:.4f}\")\n",
    "print(f\"EasyEnsemble -  Macro F1: {macro_f1_easy:.4f}\")\n",
    "print(f\"RUSBoost -  Macro F1: {macro_f1_rusboost:.4f}\")\n",
    "print(f\"BalancedBagging -  Macro F1: {macro_f1_bal_bagging:.4f}\")\n",
    "print(f\"BalancedRandomForest -  Macro F1: {macro_f1_bal_rf:.4f}\")\n",
    "\n",
    "# Weighted F1\n",
    "print('\\n\\nWeighted F1')\n",
    "print(f\"Bagging -  Weighted F1: {weighted_f1_bagging:.4f}\")\n",
    "print(f\"EasyEnsemble - Weighted F1: {weighted_f1_easy:.4f}\")\n",
    "print(f\"RUSBoost - Weighted F1: {weighted_f1_rusboost:.4f}\")\n",
    "print(f\"BalancedBagging - Weighted F1: {weighted_f1_bal_bagging:.4f}\")\n",
    "print(f\"BalancedRandomForest - Weighted F1: {weighted_f1_bal_rf:.4f}\")"
   ]
  },
  {
   "cell_type": "code",
   "execution_count": 30,
   "id": "7d11263f-ce9f-418f-9a73-2c63b144ebd4",
   "metadata": {},
   "outputs": [
    {
     "data": {
      "image/png": "[encoded data removed]",
      "text/plain": [
       "<Figure size 1200x600 with 1 Axes>"
      ]
     },
     "metadata": {},
     "output_type": "display_data"
    }
   ],
   "source": [
    "import matplotlib.pyplot as plt\n",
    "import numpy as np\n",
    "\n",
    "# Define metric names and values\n",
    "models = [\"Dummy\", \"DT\", \"Undersampling\", \"Upweighting\", \"SMOTE\", \"Bagging\", \"EasyEnsemble\", \"RUSBoost\", \"BalancedBagging\", \"BalancedRF\"]\n",
    "balanced_accuracies = [bal_acc_dummy, bal_acc_dt, bal_acc_rus, bal_acc_weighted, bal_acc_smote, bal_acc_bagging, bal_acc_easy, bal_acc_rusboost, bal_acc_bal_bagging, bal_acc_bal_rf]\n",
    "\n",
    "# Plot results\n",
    "plt.figure(figsize=(12,6))\n",
    "plt.bar(models, balanced_accuracies, color='skyblue')\n",
    "plt.xticks(rotation=45)\n",
    "plt.ylabel(\"Balanced Accuracy\")\n",
    "plt.title(\"Comparison of Different Class Imbalance Handling Techniques\")\n",
    "plt.show()\n"
   ]
  },
  {
   "cell_type": "code",
   "execution_count": null,
   "id": "e230db0f-31ba-4070-9616-7baae60f11d2",
   "metadata": {},
   "outputs": [],
   "source": [
    "\n",
    "\n",
    "# Define values\n",
    "geometric_mean_scores = [bal_acc_dummy, bal_acc_dt, bal_acc_rus, bal_acc_weighted, bal_acc_smote, bal_acc_bagging, bal_acc_easy, bal_acc_rusboost, bal_acc_bal_bagging, bal_acc_bal_rf]\n",
    "\n",
    "# Plot results\n",
    "plt.figure(figsize=(12,6))\n",
    "plt.bar(models, geometric_mean_scores, color='skyblue')\n",
    "plt.xticks(rotation=45)\n",
    "plt.ylabel(\"Geometric mean score\")\n",
    "plt.title(\"Comparison of Different Class Imbalance Handling Techniques\")\n",
    "plt.show()"
   ]
  },
  {
   "cell_type": "code",
   "execution_count": null,
   "id": "2c01f17f-5116-4b2b-b33b-638175ddf959",
   "metadata": {},
   "outputs": [],
   "source": [
    "# Define values\n",
    "geometric_mean_scores = [bal_acc_dummy, bal_acc_dt, bal_acc_rus, bal_acc_weighted, bal_acc_smote, bal_acc_bagging, bal_acc_easy, bal_acc_rusboost, bal_acc_bal_bagging, bal_acc_bal_rf]\n",
    "\n",
    "# Plot results\n",
    "plt.figure(figsize=(12,6))\n",
    "plt.bar(models, geometric_mean_scores, color='skyblue')\n",
    "plt.xticks(rotation=45)\n",
    "plt.ylabel(\"Geometric mean score\")\n",
    "plt.title(\"Comparison of Different Class Imbalance Handling Techniques\")\n",
    "plt.show()"
   ]
  },
  {
   "cell_type": "code",
   "execution_count": null,
   "id": "3522bc5e-2d49-4290-be13-e5b75859ecb3",
   "metadata": {},
   "outputs": [],
   "source": [
    "# Define values\n",
    "geometric_mean_scores = [bal_acc_dummy, bal_acc_dt, bal_acc_rus, bal_acc_weighted, bal_acc_smote, bal_acc_bagging, bal_acc_easy, bal_acc_rusboost, bal_acc_bal_bagging, bal_acc_bal_rf]\n",
    "\n",
    "# Plot results\n",
    "plt.figure(figsize=(12,6))\n",
    "plt.bar(models, geometric_mean_scores, color='skyblue')\n",
    "plt.xticks(rotation=45)\n",
    "plt.ylabel(\"Geometric mean score\")\n",
    "plt.title(\"Comparison of Different Class Imbalance Handling Techniques\")\n",
    "plt.show()"
   ]
  }
 ],
 "metadata": {
  "kernelspec": {
   "display_name": "Python 3 (ipykernel)",
   "language": "python",
   "name": "python3"
  },
  "language_info": {
   "codemirror_mode": {
    "name": "ipython",
    "version": 3
   },
   "file_extension": ".py",
   "mimetype": "text/x-python",
   "name": "python",
   "nbconvert_exporter": "python",
   "pygments_lexer": "ipython3",
   "version": "3.12.9"
  }
 },
 "nbformat": 4,
 "nbformat_minor": 5
}
