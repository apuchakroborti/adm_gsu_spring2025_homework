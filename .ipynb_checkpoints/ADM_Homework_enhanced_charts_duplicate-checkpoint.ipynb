{
 "cells": [
  {
   "cell_type": "code",
   "execution_count": 83,
   "id": "5f810d05-f1bf-4f97-b042-0720ad5919db",
   "metadata": {},
   "outputs": [],
   "source": [
    "#Task 1\n",
    "from imblearn.datasets import fetch_datasets\n"
   ]
  },
  {
   "cell_type": "code",
   "execution_count": 84,
   "id": "73e1500f-5d48-411b-9ae7-a232acaf7984",
   "metadata": {},
   "outputs": [],
   "source": [
    "abds = fetch_datasets()[\"abalone\"]"
   ]
  },
  {
   "cell_type": "code",
   "execution_count": 85,
   "id": "52bea076-f6e1-43ab-9c41-27b6906f8a1d",
   "metadata": {},
   "outputs": [],
   "source": [
    "X, y = abds.data, abds.target"
   ]
  },
  {
   "cell_type": "code",
   "execution_count": null,
   "id": "7015ab01-b5e2-489e-a9e6-702e4074ab1d",
   "metadata": {},
   "outputs": [],
   "source": [
    "print(X)"
   ]
  },
  {
   "cell_type": "code",
   "execution_count": 87,
   "id": "5b26796e-845d-4200-9701-afe92d58dc8a",
   "metadata": {},
   "outputs": [],
   "source": [
    "from sklearn.model_selection import train_test_split"
   ]
  },
  {
   "cell_type": "code",
   "execution_count": 88,
   "id": "30f5d07d-c765-45b6-b21e-d3b75bf74767",
   "metadata": {},
   "outputs": [],
   "source": [
    "last3digits_student_id = 426 # update this"
   ]
  },
  {
   "cell_type": "code",
   "execution_count": 89,
   "id": "3552402b-3fa8-4458-9e30-a2a63471b405",
   "metadata": {},
   "outputs": [],
   "source": [
    "p_seed = last3digits_student_id % 79"
   ]
  },
  {
   "cell_type": "code",
   "execution_count": 90,
   "id": "f1f0119a-af0c-4157-8846-b1135d3f3f46",
   "metadata": {},
   "outputs": [],
   "source": [
    "X_train, X_test, y_train, y_test = train_test_split(X, y, stratify=y, random_state=p_seed)"
   ]
  },
  {
   "cell_type": "code",
   "execution_count": 91,
   "id": "a1173460-08e2-4634-b2a0-13a010b1ee5d",
   "metadata": {},
   "outputs": [
    {
     "data": {
      "text/plain": [
       "3132"
      ]
     },
     "execution_count": 91,
     "metadata": {},
     "output_type": "execute_result"
    }
   ],
   "source": [
    "len(X_train)"
   ]
  },
  {
   "cell_type": "code",
   "execution_count": 92,
   "id": "d4718d30-8b12-4309-a7af-97d166aa5d63",
   "metadata": {},
   "outputs": [
    {
     "data": {
      "text/plain": [
       "1045"
      ]
     },
     "execution_count": 92,
     "metadata": {},
     "output_type": "execute_result"
    }
   ],
   "source": [
    "len(X_test)"
   ]
  },
  {
   "cell_type": "code",
   "execution_count": 93,
   "id": "1a07a9f7-310f-42af-a5ab-02074e07ead8",
   "metadata": {},
   "outputs": [
    {
     "data": {
      "text/plain": [
       "3132"
      ]
     },
     "execution_count": 93,
     "metadata": {},
     "output_type": "execute_result"
    }
   ],
   "source": [
    "len(y_train)"
   ]
  },
  {
   "cell_type": "code",
   "execution_count": 94,
   "id": "f5a34f63-9219-4efc-8509-ffea0111b04f",
   "metadata": {},
   "outputs": [
    {
     "data": {
      "text/plain": [
       "1045"
      ]
     },
     "execution_count": 94,
     "metadata": {},
     "output_type": "execute_result"
    }
   ],
   "source": [
    "len(y_test)"
   ]
  },
  {
   "cell_type": "code",
   "execution_count": 95,
   "id": "28bcb39a-cf64-4011-9314-cdb559979e95",
   "metadata": {},
   "outputs": [
    {
     "name": "stdout",
     "output_type": "stream",
     "text": [
      "[-1 -1 -1 ... -1 -1 -1]\n"
     ]
    }
   ],
   "source": [
    "print(y_test)"
   ]
  },
  {
   "cell_type": "code",
   "execution_count": 96,
   "id": "644c1acd-8821-4b11-b22b-ccc5ad48a948",
   "metadata": {},
   "outputs": [
    {
     "name": "stdout",
     "output_type": "stream",
     "text": [
      "Dummy Classifier - Balanced Accuracy: 0.5000\n",
      "Dummy Classifier - Geometric Mean: 0.0000\n",
      "Dummy Classifier - Macro F1: 0.4754\n",
      "Dummy Classifier - Weighted F1: 0.8616\n",
      "Dummy Classifier - Accuracy Score: 0.9062\n"
     ]
    }
   ],
   "source": [
    "#Task 3\n",
    "from sklearn.dummy import DummyClassifier\n",
    "from sklearn.metrics import accuracy_score\n",
    "\n",
    "# Create and train the dummy classifier\n",
    "dummy_clf = DummyClassifier(strategy=\"most_frequent\")\n",
    "dummy_clf.fit(X_train, y_train)\n",
    "y_pred_dummy = dummy_clf.predict(X_test)\n",
    "\n",
    "# print(f'\\ny_test: length: {len(y_test)}\\n',y_test)\n",
    "# print(f'\\ny_pred_dummy: length: {len(y_pred_dummy)}\\n',y_pred_dummy)\n",
    "\n",
    "# Task 2\n",
    "# Evaluate the dummy classifier\n",
    "bal_acc_dummy = balanced_accuracy_score(y_test, y_pred_dummy)\n",
    "geo_mean_dummy = geometric_mean_score(y_test, y_pred_dummy)\n",
    "macro_f1_dummy = f1_score(y_test, y_pred_dummy, average='macro')\n",
    "weighted_f1_dummy = f1_score(y_test, y_pred_dummy, average='weighted')\n",
    "accuracy_dummy = accuracy_score(y_test, y_pred_dummy)\n",
    "\n",
    "\n",
    "print(f\"Dummy Classifier - Balanced Accuracy: {bal_acc_dummy:.4f}\")\n",
    "print(f\"Dummy Classifier - Geometric Mean: {geo_mean_dummy:.4f}\")\n",
    "print(f\"Dummy Classifier - Macro F1: {macro_f1_dummy:.4f}\")\n",
    "print(f\"Dummy Classifier - Weighted F1: {weighted_f1_dummy:.4f}\")\n",
    "print(f\"Dummy Classifier - Accuracy Score: {accuracy_dummy:.4f}\")\n",
    "\n"
   ]
  },
  {
   "cell_type": "code",
   "execution_count": 97,
   "id": "68316232-364b-4870-8c91-9d9b3a303742",
   "metadata": {},
   "outputs": [
    {
     "name": "stdout",
     "output_type": "stream",
     "text": [
      "Decision Tree - Balanced Accuracy: 0.4995\n",
      "Decision Tree - Geometric Mean: 0.0000\n",
      "Decision Tree - Macro F1: 0.4751\n",
      "Decision Tree - Weighted F1: 0.8612\n",
      "Decision Tree - Accuracy Score: 0.9053\n"
     ]
    }
   ],
   "source": [
    "#Task 4\n",
    "from sklearn.tree import DecisionTreeClassifier\n",
    "\n",
    "# Train decision tree classifier\n",
    "dt_clf = DecisionTreeClassifier(max_depth=4, random_state=p_seed)\n",
    "dt_clf.fit(X_train, y_train)\n",
    "y_pred_dt = dt_clf.predict(X_test)\n",
    "\n",
    "# Evaluate the decision tree\n",
    "bal_acc_dt = balanced_accuracy_score(y_test, y_pred_dt)\n",
    "geo_mean_dt = geometric_mean_score(y_test, y_pred_dt)\n",
    "macro_f1_dt = f1_score(y_test, y_pred_dt, average='macro')\n",
    "weighted_f1_dt = f1_score(y_test, y_pred_dt, average='weighted')\n",
    "accuracy_dt = accuracy_score(y_test, y_pred_dt)\n",
    "\n",
    "print(f\"Decision Tree - Balanced Accuracy: {bal_acc_dt:.4f}\")\n",
    "print(f\"Decision Tree - Geometric Mean: {geo_mean_dt:.4f}\")\n",
    "print(f\"Decision Tree - Macro F1: {macro_f1_dt:.4f}\")\n",
    "print(f\"Decision Tree - Weighted F1: {weighted_f1_dt:.4f}\")\n",
    "print(f\"Decision Tree - Accuracy Score: {accuracy_dt:.4f}\")\n"
   ]
  },
  {
   "cell_type": "code",
   "execution_count": 98,
   "id": "04a1f718-ce83-400d-a297-fd65de08b917",
   "metadata": {},
   "outputs": [
    {
     "name": "stdout",
     "output_type": "stream",
     "text": [
      "Undersampled Decision Tree - Balanced Accuracy: 0.8001\n",
      "Undersampled Decision Tree - Geometric Mean: 0.7897\n",
      "Undersampled Decision Tree - Macro F1: 0.5820\n",
      "Undersampled Decision Tree - Weighted F1: 0.7591\n",
      "Undersampled Decision Tree - Accuracy Score: 0.6957\n"
     ]
    }
   ],
   "source": [
    "#Task 5\n",
    "from imblearn.under_sampling import RandomUnderSampler\n",
    "\n",
    "# Apply undersampling\n",
    "rus = RandomUnderSampler(random_state=p_seed)\n",
    "X_train_us, y_train_us = rus.fit_resample(X_train, y_train)\n",
    "\n",
    "# Train decision tree on undersampled data\n",
    "dt_rus = DecisionTreeClassifier(max_depth=4, random_state=p_seed)\n",
    "dt_rus.fit(X_train_us, y_train_us)\n",
    "y_pred_rus = dt_rus.predict(X_test)\n",
    "\n",
    "# Evaluate undersampled decision tree\n",
    "bal_acc_rus = balanced_accuracy_score(y_test, y_pred_rus)\n",
    "geo_mean_rus = geometric_mean_score(y_test, y_pred_rus)\n",
    "macro_f1_rus = f1_score(y_test, y_pred_rus, average='macro')\n",
    "weighted_f1_rus = f1_score(y_test, y_pred_rus, average='weighted')\n",
    "accuracy_rus = accuracy_score(y_test, y_pred_rus)\n",
    "\n",
    "print(f\"Undersampled Decision Tree - Balanced Accuracy: {bal_acc_rus:.4f}\")\n",
    "print(f\"Undersampled Decision Tree - Geometric Mean: {geo_mean_rus:.4f}\")\n",
    "print(f\"Undersampled Decision Tree - Macro F1: {macro_f1_rus:.4f}\")\n",
    "print(f\"Undersampled Decision Tree - Weighted F1: {weighted_f1_rus:.4f}\")\n",
    "print(f\"Undersampled Decision Tree - Accuracy Score: {accuracy_rus:.4f}\")\n"
   ]
  },
  {
   "cell_type": "code",
   "execution_count": 99,
   "id": "edb01d12-cba9-4afc-9a48-003b6c190fd9",
   "metadata": {},
   "outputs": [
    {
     "name": "stdout",
     "output_type": "stream",
     "text": [
      "Class Weighted Decision Tree - Balanced Accuracy: 0.8073\n",
      "Class Weighted Decision Tree - Geometric Mean: 0.8063\n",
      "Class Weighted Decision Tree - Macro F1: 0.6374\n",
      "Class Weighted Decision Tree - Weighted F1: 0.8190\n",
      "Class Weighted Decision Tree - Accuracy Score: 0.7751\n"
     ]
    }
   ],
   "source": [
    "#Task 6\n",
    "# Train decision tree with class weighting\n",
    "dt_weighted = DecisionTreeClassifier(max_depth=4, class_weight='balanced', random_state=p_seed)\n",
    "dt_weighted.fit(X_train, y_train)\n",
    "y_pred_weighted = dt_weighted.predict(X_test)\n",
    "\n",
    "# Evaluate the class-weighted decision tree\n",
    "bal_acc_weighted = balanced_accuracy_score(y_test, y_pred_weighted)\n",
    "geo_mean_weighted = geometric_mean_score(y_test, y_pred_weighted)\n",
    "macro_f1_weighted = f1_score(y_test, y_pred_weighted, average='macro')\n",
    "weighted_f1_weighted = f1_score(y_test, y_pred_weighted, average='weighted')\n",
    "accuracy_weighted = accuracy_score(y_test, y_pred_weighted)\n",
    "\n",
    "print(f\"Class Weighted Decision Tree - Balanced Accuracy: {bal_acc_weighted:.4f}\")\n",
    "print(f\"Class Weighted Decision Tree - Geometric Mean: {geo_mean_weighted:.4f}\")\n",
    "print(f\"Class Weighted Decision Tree - Macro F1: {macro_f1_weighted:.4f}\")\n",
    "print(f\"Class Weighted Decision Tree - Weighted F1: {weighted_f1_weighted:.4f}\")\n",
    "print(f\"Class Weighted Decision Tree - Accuracy Score: {accuracy_weighted:.4f}\")\n"
   ]
  },
  {
   "cell_type": "code",
   "execution_count": 101,
   "id": "62a56774-8678-4002-82b7-9193c74f4257",
   "metadata": {},
   "outputs": [
    {
     "name": "stdout",
     "output_type": "stream",
     "text": [
      "SMOTE Decision Tree - Balanced Accuracy: 0.8087\n",
      "SMOTE Decision Tree - Geometric Mean: 0.8073\n",
      "SMOTE Decision Tree - Macro F1: 0.6337\n",
      "SMOTE Decision Tree - Weighted F1: 0.8148\n",
      "SMOTE Decision Tree - Accuracy Score: 0.7694\n"
     ]
    }
   ],
   "source": [
    "#Task 7\n",
    "#Need to compare with DummyClassifier from Task 3 to Task 7\n",
    "from imblearn.over_sampling import SMOTE\n",
    "\n",
    "# Apply SMOTE\n",
    "smote = SMOTE(random_state=p_seed)\n",
    "X_train_sm, y_train_sm = smote.fit_resample(X_train, y_train)\n",
    "\n",
    "# Train decision tree on oversampled data\n",
    "dt_smote = DecisionTreeClassifier(max_depth=4, random_state=p_seed)\n",
    "dt_smote.fit(X_train_sm, y_train_sm)\n",
    "y_pred_smote = dt_smote.predict(X_test)\n",
    "\n",
    "# Evaluate SMOTE-trained decision tree\n",
    "bal_acc_smote = balanced_accuracy_score(y_test, y_pred_smote)\n",
    "geo_mean_smote = geometric_mean_score(y_test, y_pred_smote)\n",
    "macro_f1_smote = f1_score(y_test, y_pred_smote, average='macro')\n",
    "weighted_f1_smote = f1_score(y_test, y_pred_smote, average='weighted')\n",
    "accuracy_smote = accuracy_score(y_test, y_pred_smote)\n",
    "\n",
    "print(f\"SMOTE Decision Tree - Balanced Accuracy: {bal_acc_smote:.4f}\")\n",
    "print(f\"SMOTE Decision Tree - Geometric Mean: {geo_mean_smote:.4f}\")\n",
    "print(f\"SMOTE Decision Tree - Macro F1: {macro_f1_smote:.4f}\")\n",
    "print(f\"SMOTE Decision Tree - Weighted F1: {weighted_f1_smote:.4f}\")\n",
    "print(f\"SMOTE Decision Tree - Accuracy Score: {accuracy_smote:.4f}\")\n"
   ]
  },
  {
   "cell_type": "code",
   "execution_count": 102,
   "id": "9a4d2163-c14f-4b0b-8bde-8813e1e78347",
   "metadata": {},
   "outputs": [],
   "source": [
    "#Task 8\n",
    "#For evaluations: baseline is BaggingClassifier\n",
    "#Need to train classifiers for comparisons: EasyEnsembleClassifier, RUSBoostClassifier, BalancedBaggingClassifier, \n",
    "#and BalancedRandomForestClassifier\n",
    "\n",
    "from sklearn.ensemble import BaggingClassifier\n",
    "from imblearn.ensemble import EasyEnsembleClassifier, RUSBoostClassifier, BalancedBaggingClassifier, BalancedRandomForestClassifier\n",
    "\n",
    "# Train ensemble classifiers\n",
    "bagging_clf = BaggingClassifier(random_state=p_seed)\n",
    "bagging_clf.fit(X_train, y_train)\n",
    "y_pred_bagging = bagging_clf.predict(X_test)\n",
    "\n",
    "#EasyEnsembleClassifier\n",
    "easy_ensemble_clf = EasyEnsembleClassifier(random_state=p_seed)\n",
    "easy_ensemble_clf.fit(X_train, y_train)\n",
    "y_pred_easy = easy_ensemble_clf.predict(X_test)\n",
    "\n",
    "#RUSBoostClassifier\n",
    "rusboost_clf = RUSBoostClassifier(random_state=p_seed)\n",
    "rusboost_clf.fit(X_train, y_train)\n",
    "y_pred_rusboost = rusboost_clf.predict(X_test)\n",
    "\n",
    "#BalancedBaggingClassifier\n",
    "balanced_bagging_clf = BalancedBaggingClassifier(random_state=p_seed)\n",
    "balanced_bagging_clf.fit(X_train, y_train)\n",
    "y_pred_bal_bagging = balanced_bagging_clf.predict(X_test)\n",
    "\n",
    "#BalancedRandomForestClassifier\n",
    "balanced_rf_clf = BalancedRandomForestClassifier(random_state=p_seed)\n",
    "balanced_rf_clf.fit(X_train, y_train)\n",
    "y_pred_bal_rf = balanced_rf_clf.predict(X_test)\n",
    "\n",
    "\n",
    "# balance accuracy\n",
    "bal_acc_bagging = balanced_accuracy_score(y_test, y_pred_bagging)\n",
    "bal_acc_easy = balanced_accuracy_score(y_test, y_pred_easy)\n",
    "bal_acc_rusboost = balanced_accuracy_score(y_test, y_pred_rusboost)\n",
    "bal_acc_bal_bagging = balanced_accuracy_score(y_test, y_pred_bal_bagging)\n",
    "bal_acc_bal_rf = balanced_accuracy_score(y_test, y_pred_bal_rf)\n",
    "\n",
    "# Geometric mean\n",
    "geo_mean_bagging = geometric_mean_score(y_test, y_pred_bagging)\n",
    "geo_mean_easy = geometric_mean_score(y_test, y_pred_easy)\n",
    "geo_mean_rusboost = geometric_mean_score(y_test, y_pred_rusboost)\n",
    "geo_mean_bal_bagging = geometric_mean_score(y_test, y_pred_bal_bagging)\n",
    "geo_mean_bal_rf = geometric_mean_score(y_test, y_pred_bal_rf)\n",
    "\n",
    "# F1 score\n",
    "macro_f1_bagging = f1_score(y_test, y_pred_bagging, average='macro')\n",
    "macro_f1_easy = f1_score(y_test, y_pred_easy, average='macro')\n",
    "macro_f1_rusboost = f1_score(y_test, y_pred_rusboost, average='macro')\n",
    "macro_f1_bal_bagging = f1_score(y_test, y_pred_bal_bagging, average='macro')\n",
    "macro_f1_bal_rf = f1_score(y_test, y_pred_bal_rf, average='macro')\n",
    "\n",
    "# Weighted F1\n",
    "weighted_f1_bagging = f1_score(y_test, y_pred_bagging, average='weighted')\n",
    "weighted_f1_easy = f1_score(y_test, y_pred_easy, average='weighted')\n",
    "weighted_f1_rusboost = f1_score(y_test, y_pred_rusboost, average='weighted')\n",
    "weighted_f1_bal_bagging = f1_score(y_test, y_pred_bal_bagging, average='weighted')\n",
    "weighted_f1_bal_rf = f1_score(y_test, y_pred_bal_rf, average='weighted')\n",
    "\n",
    "#Accuracy\n",
    "accuracy_bagging = accuracy_score(y_test, y_pred_bagging)\n",
    "accuracy_easy = accuracy_score(y_test, y_pred_easy)\n",
    "accuracy_rusboost = accuracy_score(y_test, y_pred_rusboost)\n",
    "accuracy_bal_bagging = accuracy_score(y_test, y_pred_bal_bagging)\n",
    "accuracy_bal_rf = accuracy_score(y_test, y_pred_bal_rf)\n",
    "\n",
    "\n"
   ]
  },
  {
   "cell_type": "code",
   "execution_count": 103,
   "id": "93d1aa0b-016c-4da8-aa89-2a9d474258e2",
   "metadata": {},
   "outputs": [
    {
     "name": "stdout",
     "output_type": "stream",
     "text": [
      "\n",
      "\n",
      "Balance Accuracy\n",
      "Bagging - Balanced Accuracy: 0.5389\n",
      "EasyEnsemble - Balanced Accuracy: 0.8110\n",
      "RUSBoost - Balanced Accuracy: 0.5000\n",
      "BalancedBagging - Balanced Accuracy: 0.7352\n",
      "BalancedRandomForest - Balanced Accuracy: 0.8015\n",
      "\n",
      "\n",
      "Geometric mean\n",
      "Bagging - Geometric mean score: 0.3155\n",
      "EasyEnsemble - Geometric mean score: 0.8009\n",
      "RUSBoost - Geometric mean score: 0.0000\n",
      "BalancedBagging - Geometric mean score: 0.7306\n",
      "BalancedRandomForest - Geometric mean score: 0.8014\n",
      "\n",
      "\n",
      "F1 score\n",
      "Bagging -  Macro F1: 0.5480\n",
      "EasyEnsemble -  Macro F1: 0.5921\n",
      "RUSBoost -  Macro F1: 0.4754\n",
      "BalancedBagging -  Macro F1: 0.6321\n",
      "BalancedRandomForest -  Macro F1: 0.6656\n",
      "\n",
      "\n",
      "Weighted F1\n",
      "Bagging -  Weighted F1: 0.8692\n",
      "EasyEnsemble - Weighted F1: 0.7681\n",
      "RUSBoost - Weighted F1: 0.8616\n",
      "BalancedBagging - Weighted F1: 0.8352\n",
      "BalancedRandomForest - Weighted F1: 0.8468\n",
      "\n",
      "\n",
      "Accuracy Score\n",
      "Bagging -  Accuracy Score: 0.8938\n",
      "EasyEnsemble - Accuracy Score: 0.7072\n",
      "RUSBoost - Accuracy Score: 0.9062\n",
      "BalancedBagging - Accuracy Score: 0.8019\n",
      "BalancedRandomForest - Accuracy Score: 0.8144\n"
     ]
    }
   ],
   "source": [
    "\n",
    "#for name, y_pred in models.items():\n",
    "#    print(f\"{name} - Balanced Accuracy: {balanced_accuracy_score(y_test, y_pred):.4f}\")\n",
    "#Balance Accuracy\n",
    "print('\\n\\nBalance Accuracy')\n",
    "print(f\"Bagging - Balanced Accuracy: {bal_acc_bagging:.4f}\")\n",
    "print(f\"EasyEnsemble - Balanced Accuracy: {bal_acc_easy:.4f}\")\n",
    "print(f\"RUSBoost - Balanced Accuracy: {bal_acc_rusboost:.4f}\")\n",
    "print(f\"BalancedBagging - Balanced Accuracy: {bal_acc_bal_bagging:.4f}\")\n",
    "print(f\"BalancedRandomForest - Balanced Accuracy: {bal_acc_bal_rf:.4f}\")\n",
    "\n",
    "#Geometric mean\n",
    "print('\\n\\nGeometric mean')\n",
    "print(f\"Bagging - Geometric mean score: {geo_mean_bagging:.4f}\")\n",
    "print(f\"EasyEnsemble - Geometric mean score: {geo_mean_easy:.4f}\")\n",
    "print(f\"RUSBoost - Geometric mean score: {geo_mean_rusboost:.4f}\")\n",
    "print(f\"BalancedBagging - Geometric mean score: {geo_mean_bal_bagging:.4f}\")\n",
    "print(f\"BalancedRandomForest - Geometric mean score: {geo_mean_bal_rf:.4f}\")\n",
    "\n",
    "\n",
    "# F1 score\n",
    "print('\\n\\nF1 score')\n",
    "print(f\"Bagging -  Macro F1: {macro_f1_bagging:.4f}\")\n",
    "print(f\"EasyEnsemble -  Macro F1: {macro_f1_easy:.4f}\")\n",
    "print(f\"RUSBoost -  Macro F1: {macro_f1_rusboost:.4f}\")\n",
    "print(f\"BalancedBagging -  Macro F1: {macro_f1_bal_bagging:.4f}\")\n",
    "print(f\"BalancedRandomForest -  Macro F1: {macro_f1_bal_rf:.4f}\")\n",
    "\n",
    "# Weighted F1\n",
    "print('\\n\\nWeighted F1')\n",
    "print(f\"Bagging -  Weighted F1: {weighted_f1_bagging:.4f}\")\n",
    "print(f\"EasyEnsemble - Weighted F1: {weighted_f1_easy:.4f}\")\n",
    "print(f\"RUSBoost - Weighted F1: {weighted_f1_rusboost:.4f}\")\n",
    "print(f\"BalancedBagging - Weighted F1: {weighted_f1_bal_bagging:.4f}\")\n",
    "print(f\"BalancedRandomForest - Weighted F1: {weighted_f1_bal_rf:.4f}\")\n",
    "\n",
    "# Weighted F1\n",
    "print('\\n\\nAccuracy Score')\n",
    "print(f\"Bagging -  Accuracy Score: {accuracy_bagging:.4f}\")\n",
    "print(f\"EasyEnsemble - Accuracy Score: {accuracy_easy:.4f}\")\n",
    "print(f\"RUSBoost - Accuracy Score: {accuracy_rusboost:.4f}\")\n",
    "print(f\"BalancedBagging - Accuracy Score: {accuracy_bal_bagging:.4f}\")\n",
    "print(f\"BalancedRandomForest - Accuracy Score: {accuracy_bal_rf:.4f}\")"
   ]
  },
  {
   "cell_type": "code",
   "execution_count": null,
   "id": "7d11263f-ce9f-418f-9a73-2c63b144ebd4",
   "metadata": {},
   "outputs": [],
   "source": [
    "#Task 3 to 7 evaluation chart Balance Accuracy\n",
    "import matplotlib.pyplot as plt\n",
    "import numpy as np\n",
    "\n",
    "# Define metric names and values\n",
    "models = [\"Dummy\", \"DT\", \"Undersampling\", \"Upweighting\", \"SMOTE\"]\n",
    "balanced_accuracies = [bal_acc_dummy, bal_acc_dt, bal_acc_rus, bal_acc_weighted, bal_acc_smote]\n",
    "\n",
    "# Plot results\n",
    "plt.figure(figsize=(12,6))\n",
    "plt.bar(models, balanced_accuracies, color='skyblue')\n",
    "plt.xticks(rotation=45)\n",
    "plt.ylabel(\"Balanced Accuracy\")\n",
    "plt.title(\"Comparison of Different Class Imbalance Handling Techniques\")\n",
    "plt.show()\n"
   ]
  },
  {
   "cell_type": "code",
   "execution_count": null,
   "id": "72cf1ca2-4a00-4482-b4d6-1856dfd05dfc",
   "metadata": {},
   "outputs": [],
   "source": [
    "#Task 3 to 7 evaluation chart Geometric Mean\n",
    "import matplotlib.pyplot as plt\n",
    "import numpy as np\n",
    "# Define values\n",
    "geometric_mean_scores = [geo_mean_dummy, geo_mean_dt, geo_mean_rus, geo_mean_weighted, geo_mean_smote]\n",
    "print('Geo mean dummy: ', geo_mean_dummy)\n",
    "print('Geo mean dt: ', geo_mean_dt)\n",
    "# Plot results\n",
    "plt.figure(figsize=(12,6))\n",
    "plt.bar(models, geometric_mean_scores, color='skyblue')\n",
    "plt.xticks(rotation=45)\n",
    "plt.ylabel(\"Geometric mean score\")\n",
    "plt.title(\"Comparison of Different Class Imbalance Handling Techniques\")\n",
    "plt.show()"
   ]
  },
  {
   "cell_type": "code",
   "execution_count": null,
   "id": "f1b88d41-c027-4ac7-b400-bd57512c5f62",
   "metadata": {},
   "outputs": [],
   "source": [
    "#Task 3 to 7 evaluation chart Macro F1 Score\n",
    "# Define values\n",
    "macro_f1_scores = [macro_f1_dummy, macro_f1_dt, macro_f1_rus, macro_f1_weighted, macro_f1_smote]\n",
    "\n",
    "# Plot results\n",
    "plt.figure(figsize=(12,6))\n",
    "plt.bar(models, macro_f1_scores, color='skyblue')\n",
    "plt.xticks(rotation=45)\n",
    "plt.ylabel(\"Macro F1 score\")\n",
    "plt.title(\"Comparison of Different Class Imbalance Handling Techniques\")\n",
    "plt.show()"
   ]
  },
  {
   "cell_type": "code",
   "execution_count": null,
   "id": "8d64ab54-d9a9-4ef2-afa3-84f46ac59de9",
   "metadata": {},
   "outputs": [],
   "source": [
    "#Task 3 to 7 evaluation chart Weighted F1 Score\n",
    "# Define values\n",
    "weighted_f1_scores = [weighted_f1_dummy, weighted_f1_dt, weighted_f1_rus, weighted_f1_weighted, weighted_f1_smote]\n",
    "\n",
    "# Plot results\n",
    "plt.figure(figsize=(12,6))\n",
    "plt.bar(models, weighted_f1_scores, color='skyblue')\n",
    "plt.xticks(rotation=45)\n",
    "plt.ylabel(\"Weighted F1 score\")\n",
    "plt.title(\"Comparison of Different Class Imbalance Handling Techniques\")\n",
    "plt.show()"
   ]
  },
  {
   "cell_type": "code",
   "execution_count": null,
   "id": "76e8a8df-d559-457a-852d-68a5c254a62c",
   "metadata": {},
   "outputs": [],
   "source": [
    "#Task 3 to 7 evaluation chart Accuracy Score\n",
    "# Define values\n",
    "accuracy_scores = [accuracy_dummy, accuracy_dt, accuracy_rus, accuracy_weighted, accuracy_smote]\n",
    "\n",
    "# Plot results\n",
    "plt.figure(figsize=(12,6))\n",
    "plt.bar(models, accuracy_scores, color='skyblue')\n",
    "plt.xticks(rotation=45)\n",
    "plt.ylabel(\"Weighted F1 score\")\n",
    "plt.title(\"Comparison of Different Class Imbalance Handling Techniques\")\n",
    "plt.show()"
   ]
  },
  {
   "cell_type": "code",
   "execution_count": 109,
   "id": "8593cf4d-b47f-482a-ae97-eabe5968782d",
   "metadata": {},
   "outputs": [
    {
     "name": "stdout",
     "output_type": "stream",
     "text": [
      "----------------Ensemble method Evaluation charts start----------------------\n"
     ]
    }
   ],
   "source": [
    "print('----------------Ensemble method Evaluation charts start----------------------')"
   ]
  },
  {
   "cell_type": "code",
   "execution_count": null,
   "id": "363e5a9e-60a7-4655-8bc7-c71053d85ca4",
   "metadata": {},
   "outputs": [],
   "source": [
    "#Task 8\n",
    "#ensemble method balance accuracy\n",
    "import matplotlib.pyplot as plt\n",
    "import numpy as np\n",
    "\n",
    "# Define metric names and values\n",
    "ensemble_models = [\"Bagging\", \"EasyEnsemble\", \"RUSBoost\", \"BalancedBagging\", \"BalancedRF\"]\n",
    "ensemble_balanced_accuracies = [bal_acc_bagging, bal_acc_easy, bal_acc_rusboost, bal_acc_bal_bagging, bal_acc_bal_rf]\n",
    "\n",
    "# Plot results\n",
    "plt.figure(figsize=(12,6))\n",
    "plt.bar(ensemble_models, ensemble_balanced_accuracies, color='skyblue')\n",
    "plt.xticks(rotation=45)\n",
    "plt.ylabel(\"Ensemble Method Balanced Accuracy\")\n",
    "plt.title(\"Comparison of Different Class Imbalance Handling Techniques\")\n",
    "plt.show()"
   ]
  },
  {
   "cell_type": "code",
   "execution_count": null,
   "id": "b30c8dee-57df-4fad-b604-e170cc0481bd",
   "metadata": {},
   "outputs": [],
   "source": [
    "#Task 8\n",
    "#ensemble method balance accuracy\n",
    "#ENHANCED\n",
    "import matplotlib.pyplot as plt\n",
    "import numpy as np\n",
    "\n",
    "# Define metric names and values\n",
    "ensemble_models = [\"Bagging\", \"EasyEnsemble\", \"RUSBoost\", \"BalancedBagging\", \"BalancedRF\"]\n",
    "ensemble_balanced_accuracies = [bal_acc_bagging, bal_acc_easy, bal_acc_rusboost, bal_acc_bal_bagging, bal_acc_bal_rf]\n",
    "\n",
    "# Set up figure\n",
    "plt.figure(figsize=(12,6))\n",
    "bars = plt.bar(ensemble_models, ensemble_balanced_accuracies, color='skyblue')\n",
    "\n",
    "# Adjust y-axis limits dynamically\n",
    "y_max = max(ensemble_balanced_accuracies) + 0.05  # Adding buffer above highest bar\n",
    "plt.ylim(0, y_max)\n",
    "\n",
    "# Add data labels on top of bars\n",
    "for bar in bars:\n",
    "    plt.text(bar.get_x() + bar.get_width()/2, \n",
    "             bar.get_height() + 0.01,  # Slightly above the bar\n",
    "             f'{bar.get_height():.2f}',  # Format to 2 decimal places\n",
    "             ha='center', fontsize=12, fontweight='bold')\n",
    "\n",
    "# Labeling\n",
    "plt.xticks(rotation=45)\n",
    "plt.ylabel(\"Ensemble Method Balanced Accuracy\", fontsize=12)\n",
    "plt.title(\"Comparison of Different Class Imbalance Handling Techniques\", fontsize=14)\n",
    "plt.grid(axis='y', linestyle='--', alpha=0.7)\n",
    "\n",
    "# Show plot\n",
    "plt.show()"
   ]
  },
  {
   "cell_type": "code",
   "execution_count": null,
   "id": "8501901e-68a3-4519-9edc-0814a8709a13",
   "metadata": {},
   "outputs": [],
   "source": [
    "#Task 8\n",
    "#ensemble method Geometric mean\n",
    "import matplotlib.pyplot as plt\n",
    "import numpy as np\n",
    "\n",
    "# Define metric names and values\n",
    "ensemble_models = [\"Bagging\", \"EasyEnsemble\", \"RUSBoost\", \"BalancedBagging\", \"BalancedRF\"]\n",
    "ensemble_geo_mean = [geo_mean_bagging, geo_mean_easy, geo_mean_rusboost, geo_mean_bal_bagging, geo_mean_bal_rf]\n",
    "\n",
    "# Plot results\n",
    "plt.figure(figsize=(12,6))\n",
    "plt.bar(ensemble_models, ensemble_geo_mean, color='skyblue')\n",
    "plt.xticks(rotation=45, fontsize=12)\n",
    "plt.ylabel(\"Ensemble Method Geometric Mean\", fontsize=12)\n",
    "plt.title(\"Comparison of Different Class Imbalance Handling Techniques\", fontsize=14)\n",
    "plt.show()"
   ]
  },
  {
   "cell_type": "code",
   "execution_count": null,
   "id": "54e828c9-7721-4d4f-a096-f576c54938e9",
   "metadata": {},
   "outputs": [],
   "source": [
    "#Task 8\n",
    "#ensemble method Macro F1 Score\n",
    "import matplotlib.pyplot as plt\n",
    "import numpy as np\n",
    "\n",
    "# Define metric names and values\n",
    "ensemble_models = [\"Bagging\", \"EasyEnsemble\", \"RUSBoost\", \"BalancedBagging\", \"BalancedRF\"]\n",
    "ensemble_macro_f1_scores = [macro_f1_bagging, macro_f1_easy, macro_f1_rusboost, macro_f1_bal_bagging, macro_f1_bal_rf]\n",
    "\n",
    "# Plot results\n",
    "plt.figure(figsize=(12,6))\n",
    "plt.bar(ensemble_models, ensemble_macro_f1_scores, color='skyblue')\n",
    "plt.xticks(rotation=45)\n",
    "plt.ylabel(\"Ensemble Method Macro F1 Score\")\n",
    "plt.title(\"Comparison of Different Class Imbalance Handling Techniques\")\n",
    "plt.show()"
   ]
  },
  {
   "cell_type": "code",
   "execution_count": null,
   "id": "e392c5f7-af22-48c8-8a9b-9e2ba5a70fa2",
   "metadata": {},
   "outputs": [],
   "source": [
    "\n",
    "\n"
   ]
  },
  {
   "cell_type": "code",
   "execution_count": null,
   "id": "2f94c990-4bc7-4596-b066-1a01584e4f7d",
   "metadata": {},
   "outputs": [],
   "source": [
    "#Task 8\n",
    "#ensemble method Macro F1 Score\n",
    "#Enhanced\n",
    "import matplotlib.pyplot as plt\n",
    "import numpy as np\n",
    "\n",
    "# Define metric names and values\n",
    "ensemble_models = [\"Bagging\", \"EasyEnsemble\", \"RUSBoost\", \"BalancedBagging\", \"BalancedRF\"]\n",
    "ensemble_macro_f1_scores = [macro_f1_bagging, macro_f1_easy, macro_f1_rusboost, macro_f1_bal_bagging, macro_f1_bal_rf]\n",
    "\n",
    "# Set up figure\n",
    "plt.figure(figsize=(12,6))\n",
    "bars = plt.bar(ensemble_models, ensemble_macro_f1_scores, color='skyblue')\n",
    "\n",
    "# Adjust y-axis limits dynamically\n",
    "y_max = max(ensemble_macro_f1_scores) + 0.05  # Add some space above the highest bar\n",
    "plt.ylim(0, y_max)\n",
    "\n",
    "# Add data labels on top of bars\n",
    "for bar in bars:\n",
    "    plt.text(bar.get_x() + bar.get_width()/2, \n",
    "             bar.get_height() + 0.01,  # Slightly above the bar\n",
    "             f'{bar.get_height():.2f}',  # Format to 2 decimal places\n",
    "             ha='center', fontsize=12, fontweight='bold')\n",
    "\n",
    "# Labeling\n",
    "plt.xticks(rotation=45, fontsize=12)\n",
    "plt.ylabel(\"Ensemble Method Macro F1 Score\", fontsize=12)\n",
    "plt.title(\"Comparison of Ensemble Methods Using Macro F1 Score\", fontsize=14)\n",
    "plt.grid(axis='y', linestyle='--', alpha=0.7)\n",
    "\n",
    "# Show plot\n",
    "plt.show()\n"
   ]
  },
  {
   "cell_type": "code",
   "execution_count": null,
   "id": "3522bc5e-2d49-4290-be13-e5b75859ecb3",
   "metadata": {},
   "outputs": [],
   "source": [
    "#Task 8\n",
    "#ensemble method Weighted F1 Score\n",
    "weighted_f1_scores = [weighted_f1_bagging, weighted_f1_easy, weighted_f1_rusboost, weighted_f1_bal_bagging, weighted_f1_bal_rf]\n",
    "\n",
    "# Plot results\n",
    "plt.figure(figsize=(12,6))\n",
    "plt.bar(ensemble_models, weighted_f1_scores, color='skyblue')\n",
    "plt.xticks(rotation=45)\n",
    "plt.ylabel(\"Ensemble Method Weighted F1 score\")\n",
    "plt.title(\"Comparison of Different Class Imbalance Handling Techniques\")\n",
    "plt.show()"
   ]
  },
  {
   "cell_type": "code",
   "execution_count": null,
   "id": "c984d69a-b013-4886-a382-5c02d7cd6d1a",
   "metadata": {},
   "outputs": [],
   "source": [
    "#Task 8\n",
    "#ensemble method Macro F1 Score\n",
    "#Enhanced\n",
    "import matplotlib.pyplot as plt\n",
    "import numpy as np\n",
    "\n",
    "# Define metric names and values\n",
    "ensemble_models = [\"Bagging\", \"EasyEnsemble\", \"RUSBoost\", \"BalancedBagging\", \"BalancedRF\"]\n",
    "ensemble_weighted_f1_scores = [weighted_f1_bagging, weighted_f1_easy, weighted_f1_rusboost, weighted_f1_bal_bagging, weighted_f1_bal_rf]\n",
    "\n",
    "# Set up figure\n",
    "plt.figure(figsize=(12,6))\n",
    "bars = plt.bar(ensemble_models, ensemble_weighted_f1_scores, color='skyblue')\n",
    "\n",
    "# Adjust y-axis limits dynamically\n",
    "y_max = max(ensemble_weighted_f1_scores) + 0.05  # Add some space above the highest bar\n",
    "plt.ylim(0, y_max)\n",
    "\n",
    "# Add data labels on top of bars\n",
    "for bar in bars:\n",
    "    plt.text(bar.get_x() + bar.get_width()/2, \n",
    "             bar.get_height() + 0.01,  # Slightly above the bar\n",
    "             f'{bar.get_height():.2f}',  # Format to 2 decimal places\n",
    "             ha='center', fontsize=12, fontweight='bold')\n",
    "\n",
    "# Labeling\n",
    "plt.xticks(rotation=45, fontsize=12)\n",
    "plt.ylabel(\"Ensemble Method Weighted F1 Score\", fontsize=12)\n",
    "plt.title(\"Comparison of Ensemble Methods Using Weighted F1 Score\", fontsize=14)\n",
    "plt.grid(axis='y', linestyle='--', alpha=0.7)\n",
    "\n",
    "# Show plot\n",
    "plt.show()"
   ]
  },
  {
   "cell_type": "code",
   "execution_count": 119,
   "id": "5dbb1984-fd74-461b-a28f-0b4a0123cc48",
   "metadata": {},
   "outputs": [
    {
     "data": {
      "image/png": "[encoded data removed]",
      "text/plain": [
       "<Figure size 1200x600 with 1 Axes>"
      ]
     },
     "metadata": {},
     "output_type": "display_data"
    }
   ],
   "source": [
    "#Task 8\n",
    "#ensemble method Accuracy Score\n",
    "accuracy_scores = [accuracy_bagging, accuracy_easy, accuracy_rusboost, accuracy_bal_bagging, accuracy_bal_rf]\n",
    "\n",
    "# Plot results\n",
    "plt.figure(figsize=(12,6))\n",
    "bars = plt.bar(ensemble_models, accuracy_scores, color='skyblue')\n",
    "\n",
    "# Adjust y-axis limits dynamically\n",
    "y_max = max(accuracy_scores) + 0.05  # Add some space above the highest bar\n",
    "plt.ylim(0, y_max)\n",
    "\n",
    "# Add data labels on top of bars\n",
    "for bar in bars:\n",
    "    plt.text(bar.get_x() + bar.get_width()/2, \n",
    "             bar.get_height() + 0.01,  # Slightly above the bar\n",
    "             f'{bar.get_height():.2f}',  # Format to 2 decimal places\n",
    "             ha='center', fontsize=12, fontweight='bold')\n",
    "\n",
    "\n",
    "plt.xticks(rotation=45)\n",
    "plt.ylabel(\"Ensemble Method Accuracy score\")\n",
    "plt.title(\"Comparison of Different Class Imbalance Handling Techniques\")\n",
    "plt.grid(axis='y', linestyle='--', alpha=0.7)\n",
    "plt.show()"
   ]
  },
  {
   "cell_type": "code",
   "execution_count": null,
   "id": "de397e3d-a438-4fb0-a944-f078f922044c",
   "metadata": {},
   "outputs": [],
   "source": []
  }
 ],
 "metadata": {
  "kernelspec": {
   "display_name": "Python 3 (ipykernel)",
   "language": "python",
   "name": "python3"
  },
  "language_info": {
   "codemirror_mode": {
    "name": "ipython",
    "version": 3
   },
   "file_extension": ".py",
   "mimetype": "text/x-python",
   "name": "python",
   "nbconvert_exporter": "python",
   "pygments_lexer": "ipython3",
   "version": "3.12.9"
  }
 },
 "nbformat": 4,
 "nbformat_minor": 5
}
